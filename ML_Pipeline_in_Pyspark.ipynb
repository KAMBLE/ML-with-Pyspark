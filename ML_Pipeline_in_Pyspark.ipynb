{
  "nbformat": 4,
  "nbformat_minor": 0,
  "metadata": {
    "colab": {
      "name": "ML Pipeline in Pyspark.ipynb",
      "provenance": [],
      "toc_visible": true,
      "authorship_tag": "ABX9TyOJBy62/W+tAzS71FHiSg6M",
      "include_colab_link": true
    },
    "kernelspec": {
      "name": "python3",
      "display_name": "Python 3"
    },
    "language_info": {
      "name": "python"
    }
  },
  "cells": [
    {
      "cell_type": "markdown",
      "metadata": {
        "id": "view-in-github",
        "colab_type": "text"
      },
      "source": [
        "<a href=\"https://colab.research.google.com/github/KAMBLE/ML-with-Pyspark/blob/main/ML_Pipeline_in_Pyspark.ipynb\" target=\"_parent\"><img src=\"https://colab.research.google.com/assets/colab-badge.svg\" alt=\"Open In Colab\"/></a>"
      ]
    },
    {
      "cell_type": "markdown",
      "metadata": {
        "id": "h6_o39b9iKSm"
      },
      "source": [
        "# Configure Pyspark in Colab "
      ]
    },
    {
      "cell_type": "code",
      "metadata": {
        "id": "WkhJWyetdlhQ"
      },
      "source": [
        "!apt-get install openjdk-8-jdk-headless -qq > /dev/null\n",
        "!wget -q https://www-eu.apache.org/dist/spark/spark-2.4.4/spark-2.4.4-bin-hadoop2.7.tgz"
      ],
      "execution_count": 5,
      "outputs": []
    },
    {
      "cell_type": "markdown",
      "metadata": {
        "id": "syCcMH0gfkd-"
      },
      "source": [
        "### for permanent colab library installation "
      ]
    },
    {
      "cell_type": "code",
      "metadata": {
        "colab": {
          "base_uri": "https://localhost:8080/"
        },
        "id": "DlxeeawIeRO3",
        "outputId": "519792a0-a921-4a53-a488-7d7de1ddc732"
      },
      "source": [
        "import os, sys\n",
        "from google.colab import drive\n",
        "drive.mount('/content/drive')\n",
        "nb_path = '/content/notebooks'\n",
        "os.symlink('/content/drive/My Drive/Colab Notebooks', nb_path)\n",
        "sys.path.insert(0,nb_path)"
      ],
      "execution_count": 2,
      "outputs": [
        {
          "output_type": "stream",
          "text": [
            "Mounted at /content/drive\n"
          ],
          "name": "stdout"
        }
      ]
    },
    {
      "cell_type": "code",
      "metadata": {
        "colab": {
          "base_uri": "https://localhost:8080/"
        },
        "id": "6HvFQf1ngRYR",
        "outputId": "79efde57-8823-4dd2-cc3a-3abb71bc622e"
      },
      "source": [
        "!pip install --target=$nb_path findspark"
      ],
      "execution_count": 4,
      "outputs": [
        {
          "output_type": "stream",
          "text": [
            "Collecting findspark\n",
            "  Downloading https://files.pythonhosted.org/packages/fc/2d/2e39f9a023479ea798eed4351cd66f163ce61e00c717e03c37109f00c0f2/findspark-1.4.2-py2.py3-none-any.whl\n",
            "Installing collected packages: findspark\n",
            "Successfully installed findspark-1.4.2\n"
          ],
          "name": "stdout"
        }
      ]
    },
    {
      "cell_type": "code",
      "metadata": {
        "id": "16CqXRQmgsUr"
      },
      "source": [
        "!tar -xvzf '/content/drive/MyDrive/SPARK/spark-3.1.1-bin-hadoop2.7.tgz'"
      ],
      "execution_count": null,
      "outputs": []
    },
    {
      "cell_type": "code",
      "metadata": {
        "id": "zWDDcp1oht8H"
      },
      "source": [
        "import os\n",
        "os.environ[\"JAVA_HOME\"] = \"/usr/lib/jvm/java-8-openjdk-amd64\"\n",
        "os.environ[\"SPARK_HOME\"] = \"/content/spark-2.3.2-bin-hadoop2.7\""
      ],
      "execution_count": 7,
      "outputs": []
    },
    {
      "cell_type": "code",
      "metadata": {
        "id": "v9elAZuRhx0A"
      },
      "source": [
        "import findspark\n",
        "findspark.init(\"/content/spark-3.1.1-bin-hadoop2.7\")\n",
        "from pyspark.sql import SparkSession\n",
        "spark = SparkSession.builder.master(\"local[*]\").getOrCreate()"
      ],
      "execution_count": 8,
      "outputs": []
    },
    {
      "cell_type": "code",
      "metadata": {
        "colab": {
          "base_uri": "https://localhost:8080/",
          "height": 216
        },
        "id": "1-HL1Exdh5fe",
        "outputId": "94b0c4d0-6536-46f1-c8c3-d0edfe1cb99a"
      },
      "source": [
        "spark"
      ],
      "execution_count": 9,
      "outputs": [
        {
          "output_type": "execute_result",
          "data": {
            "text/html": [
              "\n",
              "            <div>\n",
              "                <p><b>SparkSession - in-memory</b></p>\n",
              "                \n",
              "        <div>\n",
              "            <p><b>SparkContext</b></p>\n",
              "\n",
              "            <p><a href=\"http://bca90b8a92f4:4040\">Spark UI</a></p>\n",
              "\n",
              "            <dl>\n",
              "              <dt>Version</dt>\n",
              "                <dd><code>v3.1.1</code></dd>\n",
              "              <dt>Master</dt>\n",
              "                <dd><code>local[*]</code></dd>\n",
              "              <dt>AppName</dt>\n",
              "                <dd><code>pyspark-shell</code></dd>\n",
              "            </dl>\n",
              "        </div>\n",
              "        \n",
              "            </div>\n",
              "        "
            ],
            "text/plain": [
              "<pyspark.sql.session.SparkSession at 0x7f2acb89a2d0>"
            ]
          },
          "metadata": {
            "tags": []
          },
          "execution_count": 9
        }
      ]
    },
    {
      "cell_type": "markdown",
      "metadata": {
        "id": "62ARHm1Ch89B"
      },
      "source": [
        "# Build ML pipeline in pyspark"
      ]
    },
    {
      "cell_type": "code",
      "metadata": {
        "colab": {
          "base_uri": "https://localhost:8080/"
        },
        "id": "a0xlq34IiXG9",
        "outputId": "969202c9-a51f-476c-e62a-252294755411"
      },
      "source": [
        "# read a csv file\n",
        "my_data = spark.read.csv('/content/Employee-Attrition.csv',header=True)\n",
        "\n",
        "# see the default schema of the dataframe\n",
        "my_data.printSchema()"
      ],
      "execution_count": 39,
      "outputs": [
        {
          "output_type": "stream",
          "text": [
            "root\n",
            " |-- Age: string (nullable = true)\n",
            " |-- Attrition: string (nullable = true)\n",
            " |-- BusinessTravel: string (nullable = true)\n",
            " |-- DailyRate: string (nullable = true)\n",
            " |-- Department: string (nullable = true)\n",
            " |-- DistanceFromHome: string (nullable = true)\n",
            " |-- Education: string (nullable = true)\n",
            " |-- EducationField: string (nullable = true)\n",
            " |-- EmployeeCount: string (nullable = true)\n",
            " |-- EmployeeNumber: string (nullable = true)\n",
            " |-- EnvironmentSatisfaction: string (nullable = true)\n",
            " |-- Gender: string (nullable = true)\n",
            " |-- HourlyRate: string (nullable = true)\n",
            " |-- JobInvolvement: string (nullable = true)\n",
            " |-- JobLevel: string (nullable = true)\n",
            " |-- JobRole: string (nullable = true)\n",
            " |-- JobSatisfaction: string (nullable = true)\n",
            " |-- MaritalStatus: string (nullable = true)\n",
            " |-- MonthlyIncome: string (nullable = true)\n",
            " |-- MonthlyRate: string (nullable = true)\n",
            " |-- NumCompaniesWorked: string (nullable = true)\n",
            " |-- Over18: string (nullable = true)\n",
            " |-- OverTime: string (nullable = true)\n",
            " |-- PercentSalaryHike: string (nullable = true)\n",
            " |-- PerformanceRating: string (nullable = true)\n",
            " |-- RelationshipSatisfaction: string (nullable = true)\n",
            " |-- StandardHours: string (nullable = true)\n",
            " |-- StockOptionLevel: string (nullable = true)\n",
            " |-- TotalWorkingYears: string (nullable = true)\n",
            " |-- TrainingTimesLastYear: string (nullable = true)\n",
            " |-- WorkLifeBalance: string (nullable = true)\n",
            " |-- YearsAtCompany: string (nullable = true)\n",
            " |-- YearsInCurrentRole: string (nullable = true)\n",
            " |-- YearsSinceLastPromotion: string (nullable = true)\n",
            " |-- YearsWithCurrManager: string (nullable = true)\n",
            "\n"
          ],
          "name": "stdout"
        }
      ]
    },
    {
      "cell_type": "code",
      "metadata": {
        "colab": {
          "base_uri": "https://localhost:8080/"
        },
        "id": "wjaUdpPcigMM",
        "outputId": "efd35e57-47f3-4928-da82-c2ab09927bc3"
      },
      "source": [
        "#check shape of data \n",
        "(my_data.count() , len(my_data.columns))"
      ],
      "execution_count": 11,
      "outputs": [
        {
          "output_type": "execute_result",
          "data": {
            "text/plain": [
              "(1470, 35)"
            ]
          },
          "metadata": {
            "tags": []
          },
          "execution_count": 11
        }
      ]
    },
    {
      "cell_type": "code",
      "metadata": {
        "colab": {
          "base_uri": "https://localhost:8080/"
        },
        "id": "ED5nXZJZiqcV",
        "outputId": "5689ad09-c6ee-477b-ee90-5df8eadc9852"
      },
      "source": [
        "#describe data \n",
        "my_data.describe().show()"
      ],
      "execution_count": 12,
      "outputs": [
        {
          "output_type": "stream",
          "text": [
            "+-------+------------------+---------+--------------+------------------+---------------+----------------+------------------+----------------+-------------+-----------------+-----------------------+------+------------------+------------------+------------------+--------------------+------------------+-------------+-----------------+------------------+------------------+------+--------+------------------+-------------------+------------------------+-------------+------------------+------------------+---------------------+------------------+------------------+------------------+-----------------------+--------------------+\n",
            "|summary|               Age|Attrition|BusinessTravel|         DailyRate|     Department|DistanceFromHome|         Education|  EducationField|EmployeeCount|   EmployeeNumber|EnvironmentSatisfaction|Gender|        HourlyRate|    JobInvolvement|          JobLevel|             JobRole|   JobSatisfaction|MaritalStatus|    MonthlyIncome|       MonthlyRate|NumCompaniesWorked|Over18|OverTime| PercentSalaryHike|  PerformanceRating|RelationshipSatisfaction|StandardHours|  StockOptionLevel| TotalWorkingYears|TrainingTimesLastYear|   WorkLifeBalance|    YearsAtCompany|YearsInCurrentRole|YearsSinceLastPromotion|YearsWithCurrManager|\n",
            "+-------+------------------+---------+--------------+------------------+---------------+----------------+------------------+----------------+-------------+-----------------+-----------------------+------+------------------+------------------+------------------+--------------------+------------------+-------------+-----------------+------------------+------------------+------+--------+------------------+-------------------+------------------------+-------------+------------------+------------------+---------------------+------------------+------------------+------------------+-----------------------+--------------------+\n",
            "|  count|              1470|     1470|          1470|              1470|           1470|            1470|              1470|            1470|         1470|             1470|                   1470|  1470|              1470|              1470|              1470|                1470|              1470|         1470|             1470|              1470|              1470|  1470|    1470|              1470|               1470|                    1470|         1470|              1470|              1470|                 1470|              1470|              1470|              1470|                   1470|                1470|\n",
            "|   mean|36.923809523809524|     null|          null| 802.4857142857143|           null|9.19251700680272| 2.912925170068027|            null|          1.0|1024.865306122449|      2.721768707482993|  null| 65.89115646258503|2.7299319727891156|2.0639455782312925|                null|2.7285714285714286|         null|6502.931292517007|14313.103401360544|2.6931972789115646|  null|    null|15.209523809523809| 3.1537414965986397|      2.7122448979591836|         80.0|0.7938775510204081|11.279591836734694|   2.7993197278911564|2.7612244897959184|7.0081632653061225| 4.229251700680272|     2.1877551020408164|    4.12312925170068|\n",
            "| stddev| 9.135373489136729|     null|          null|403.50909994352804|           null|8.10686443566608|1.0241649445978718|            null|          0.0|602.0243348474752|     1.0930822146350003|  null|20.329427593996176|0.7115611429632297|1.1069398989351202|                null|1.1028461230547213|         null|4707.956783097992| 7117.786044059972|2.4980090060707463|  null|    null|3.6599377165396385|0.36082352460434397|      1.0812088864403517|          0.0|0.8520766679308381| 7.780781675514995|   1.2892706207958466|0.7064758297141507| 6.126525152403571| 3.623137034670627|     3.2224302791379693|  3.5681361205404363|\n",
            "|    min|                18|       No|    Non-Travel|              1001|Human Resources|               1|                 1| Human Resources|            1|                1|                      1|Female|               100|                 1|                 1|Healthcare Repres...|                 1|     Divorced|            10008|             10007|                 0|     Y|      No|                11|                  3|                       1|           80|                 0|                 0|                    0|                 1|                 0|                 0|                      0|                   0|\n",
            "|    max|                60|      Yes| Travel_Rarely|               999|          Sales|               9|                 5|Technical Degree|            1|              999|                      4|  Male|                99|                 4|                 5|Sales Representative|                 4|       Single|             9998|              9983|                 9|     Y|     Yes|                25|                  4|                       4|           80|                 3|                 9|                    6|                 4|                 9|                 9|                      9|                   9|\n",
            "+-------+------------------+---------+--------------+------------------+---------------+----------------+------------------+----------------+-------------+-----------------+-----------------------+------+------------------+------------------+------------------+--------------------+------------------+-------------+-----------------+------------------+------------------+------+--------+------------------+-------------------+------------------------+-------------+------------------+------------------+---------------------+------------------+------------------+------------------+-----------------------+--------------------+\n",
            "\n"
          ],
          "name": "stdout"
        }
      ]
    },
    {
      "cell_type": "code",
      "metadata": {
        "colab": {
          "base_uri": "https://localhost:8080/"
        },
        "id": "DVYTPhT3jDHH",
        "outputId": "69ba1f5e-0bf9-4c38-8cb9-fc4b23670ed6"
      },
      "source": [
        "#show top 5 rows \n",
        "my_data.show(n=5)"
      ],
      "execution_count": 13,
      "outputs": [
        {
          "output_type": "stream",
          "text": [
            "+---+---------+-----------------+---------+--------------------+----------------+---------+--------------+-------------+--------------+-----------------------+------+----------+--------------+--------+--------------------+---------------+-------------+-------------+-----------+------------------+------+--------+-----------------+-----------------+------------------------+-------------+----------------+-----------------+---------------------+---------------+--------------+------------------+-----------------------+--------------------+\n",
            "|Age|Attrition|   BusinessTravel|DailyRate|          Department|DistanceFromHome|Education|EducationField|EmployeeCount|EmployeeNumber|EnvironmentSatisfaction|Gender|HourlyRate|JobInvolvement|JobLevel|             JobRole|JobSatisfaction|MaritalStatus|MonthlyIncome|MonthlyRate|NumCompaniesWorked|Over18|OverTime|PercentSalaryHike|PerformanceRating|RelationshipSatisfaction|StandardHours|StockOptionLevel|TotalWorkingYears|TrainingTimesLastYear|WorkLifeBalance|YearsAtCompany|YearsInCurrentRole|YearsSinceLastPromotion|YearsWithCurrManager|\n",
            "+---+---------+-----------------+---------+--------------------+----------------+---------+--------------+-------------+--------------+-----------------------+------+----------+--------------+--------+--------------------+---------------+-------------+-------------+-----------+------------------+------+--------+-----------------+-----------------+------------------------+-------------+----------------+-----------------+---------------------+---------------+--------------+------------------+-----------------------+--------------------+\n",
            "| 41|      Yes|    Travel_Rarely|     1102|               Sales|               1|        2| Life Sciences|            1|             1|                      2|Female|        94|             3|       2|     Sales Executive|              4|       Single|         5993|      19479|                 8|     Y|     Yes|               11|                3|                       1|           80|               0|                8|                    0|              1|             6|                 4|                      0|                   5|\n",
            "| 49|       No|Travel_Frequently|      279|Research & Develo...|               8|        1| Life Sciences|            1|             2|                      3|  Male|        61|             2|       2|  Research Scientist|              2|      Married|         5130|      24907|                 1|     Y|      No|               23|                4|                       4|           80|               1|               10|                    3|              3|            10|                 7|                      1|                   7|\n",
            "| 37|      Yes|    Travel_Rarely|     1373|Research & Develo...|               2|        2|         Other|            1|             4|                      4|  Male|        92|             2|       1|Laboratory Techni...|              3|       Single|         2090|       2396|                 6|     Y|     Yes|               15|                3|                       2|           80|               0|                7|                    3|              3|             0|                 0|                      0|                   0|\n",
            "| 33|       No|Travel_Frequently|     1392|Research & Develo...|               3|        4| Life Sciences|            1|             5|                      4|Female|        56|             3|       1|  Research Scientist|              3|      Married|         2909|      23159|                 1|     Y|     Yes|               11|                3|                       3|           80|               0|                8|                    3|              3|             8|                 7|                      3|                   0|\n",
            "| 27|       No|    Travel_Rarely|      591|Research & Develo...|               2|        1|       Medical|            1|             7|                      1|  Male|        40|             3|       1|Laboratory Techni...|              2|      Married|         3468|      16632|                 9|     Y|      No|               12|                3|                       4|           80|               1|                6|                    3|              3|             2|                 2|                      2|                   2|\n",
            "+---+---------+-----------------+---------+--------------------+----------------+---------+--------------+-------------+--------------+-----------------------+------+----------+--------------+--------+--------------------+---------------+-------------+-------------+-----------+------------------+------+--------+-----------------+-----------------+------------------------+-------------+----------------+-----------------+---------------------+---------------+--------------+------------------+-----------------------+--------------------+\n",
            "only showing top 5 rows\n",
            "\n"
          ],
          "name": "stdout"
        }
      ]
    },
    {
      "cell_type": "code",
      "metadata": {
        "colab": {
          "base_uri": "https://localhost:8080/"
        },
        "id": "XUhy8vezjO0i",
        "outputId": "ac301ab3-f2d0-47dc-cfd6-e22ca6d89959"
      },
      "source": [
        "# import sql function pyspark\n",
        "import pyspark.sql.functions as f\n",
        "\n",
        "# null values in each column\n",
        "data_agg = my_data.agg(*[f.count(f.when(f.isnull(c), c)).alias(c) for c in my_data.columns])\n",
        "data_agg.show()"
      ],
      "execution_count": 14,
      "outputs": [
        {
          "output_type": "stream",
          "text": [
            "+---+---------+--------------+---------+----------+----------------+---------+--------------+-------------+--------------+-----------------------+------+----------+--------------+--------+-------+---------------+-------------+-------------+-----------+------------------+------+--------+-----------------+-----------------+------------------------+-------------+----------------+-----------------+---------------------+---------------+--------------+------------------+-----------------------+--------------------+\n",
            "|Age|Attrition|BusinessTravel|DailyRate|Department|DistanceFromHome|Education|EducationField|EmployeeCount|EmployeeNumber|EnvironmentSatisfaction|Gender|HourlyRate|JobInvolvement|JobLevel|JobRole|JobSatisfaction|MaritalStatus|MonthlyIncome|MonthlyRate|NumCompaniesWorked|Over18|OverTime|PercentSalaryHike|PerformanceRating|RelationshipSatisfaction|StandardHours|StockOptionLevel|TotalWorkingYears|TrainingTimesLastYear|WorkLifeBalance|YearsAtCompany|YearsInCurrentRole|YearsSinceLastPromotion|YearsWithCurrManager|\n",
            "+---+---------+--------------+---------+----------+----------------+---------+--------------+-------------+--------------+-----------------------+------+----------+--------------+--------+-------+---------------+-------------+-------------+-----------+------------------+------+--------+-----------------+-----------------+------------------------+-------------+----------------+-----------------+---------------------+---------------+--------------+------------------+-----------------------+--------------------+\n",
            "|  0|        0|             0|        0|         0|               0|        0|             0|            0|             0|                      0|     0|         0|             0|       0|      0|              0|            0|            0|          0|                 0|     0|       0|                0|                0|                       0|            0|               0|                0|                    0|              0|             0|                 0|                      0|                   0|\n",
            "+---+---------+--------------+---------+----------+----------------+---------+--------------+-------------+--------------+-----------------------+------+----------+--------------+--------+-------+---------------+-------------+-------------+-----------+------------------+------+--------+-----------------+-----------------+------------------------+-------------+----------------+-----------------+---------------------+---------------+--------------+------------------+-----------------------+--------------------+\n",
            "\n"
          ],
          "name": "stdout"
        }
      ]
    },
    {
      "cell_type": "code",
      "metadata": {
        "colab": {
          "base_uri": "https://localhost:8080/"
        },
        "id": "XWqpfngyjbnP",
        "outputId": "8e11127d-f073-40f2-c96c-c4ab9d91a90e"
      },
      "source": [
        "# value counts of Batsman_Name column\n",
        "my_data.groupBy('BusinessTravel').count().show()"
      ],
      "execution_count": 15,
      "outputs": [
        {
          "output_type": "stream",
          "text": [
            "+-----------------+-----+\n",
            "|   BusinessTravel|count|\n",
            "+-----------------+-----+\n",
            "|Travel_Frequently|  277|\n",
            "|       Non-Travel|  150|\n",
            "|    Travel_Rarely| 1043|\n",
            "+-----------------+-----+\n",
            "\n"
          ],
          "name": "stdout"
        }
      ]
    },
    {
      "cell_type": "code",
      "metadata": {
        "colab": {
          "base_uri": "https://localhost:8080/"
        },
        "id": "QwgDCt0Hocuk",
        "outputId": "5e40d8a8-0b9d-4e99-c622-ad7c18ef6cc4"
      },
      "source": [
        "my_data.groupBy('Department').count().show()"
      ],
      "execution_count": 16,
      "outputs": [
        {
          "output_type": "stream",
          "text": [
            "+--------------------+-----+\n",
            "|          Department|count|\n",
            "+--------------------+-----+\n",
            "|               Sales|  446|\n",
            "|Research & Develo...|  961|\n",
            "|     Human Resources|   63|\n",
            "+--------------------+-----+\n",
            "\n"
          ],
          "name": "stdout"
        }
      ]
    },
    {
      "cell_type": "markdown",
      "metadata": {
        "id": "bZP5Cy38jdyB"
      },
      "source": [
        "## Encoding Variable "
      ]
    },
    {
      "cell_type": "code",
      "metadata": {
        "id": "4tvybfeNkfxa"
      },
      "source": [
        "from pyspark.ml.feature import StringIndexer\n",
        "\n",
        "#create object StringIndexer class and specify input and ouput column \n",
        "SI_BTravel = StringIndexer(inputCol='BusinessTravel',outputCol='BTravel_Index')\n",
        "SI_Department = StringIndexer(inputCol='Department',outputCol='Department_Index')\n",
        "\n",
        "# transform the data\n",
        "my_data = SI_BTravel.fit(my_data).transform(my_data)\n",
        "my_data = SI_Department.fit(my_data).transform(my_data)\n",
        "\n",
        "#my_data.select('BusinessTravel','BTravel_Index','Department','Department_Index')"
      ],
      "execution_count": 40,
      "outputs": []
    },
    {
      "cell_type": "code",
      "metadata": {
        "colab": {
          "base_uri": "https://localhost:8080/"
        },
        "id": "orEa_lXopKFv",
        "outputId": "1944a459-9476-4f7a-c5d6-ac71603b1b24"
      },
      "source": [
        "my_data.select('BusinessTravel','BTravel_Index','Department','Department_Index').show(20)"
      ],
      "execution_count": 41,
      "outputs": [
        {
          "output_type": "stream",
          "text": [
            "+-----------------+-------------+--------------------+----------------+\n",
            "|   BusinessTravel|BTravel_Index|          Department|Department_Index|\n",
            "+-----------------+-------------+--------------------+----------------+\n",
            "|    Travel_Rarely|          0.0|               Sales|             1.0|\n",
            "|Travel_Frequently|          1.0|Research & Develo...|             0.0|\n",
            "|    Travel_Rarely|          0.0|Research & Develo...|             0.0|\n",
            "|Travel_Frequently|          1.0|Research & Develo...|             0.0|\n",
            "|    Travel_Rarely|          0.0|Research & Develo...|             0.0|\n",
            "|Travel_Frequently|          1.0|Research & Develo...|             0.0|\n",
            "|    Travel_Rarely|          0.0|Research & Develo...|             0.0|\n",
            "|    Travel_Rarely|          0.0|Research & Develo...|             0.0|\n",
            "|Travel_Frequently|          1.0|Research & Develo...|             0.0|\n",
            "|    Travel_Rarely|          0.0|Research & Develo...|             0.0|\n",
            "|    Travel_Rarely|          0.0|Research & Develo...|             0.0|\n",
            "|    Travel_Rarely|          0.0|Research & Develo...|             0.0|\n",
            "|    Travel_Rarely|          0.0|Research & Develo...|             0.0|\n",
            "|    Travel_Rarely|          0.0|Research & Develo...|             0.0|\n",
            "|    Travel_Rarely|          0.0|Research & Develo...|             0.0|\n",
            "|    Travel_Rarely|          0.0|Research & Develo...|             0.0|\n",
            "|    Travel_Rarely|          0.0|Research & Develo...|             0.0|\n",
            "|       Non-Travel|          2.0|Research & Develo...|             0.0|\n",
            "|    Travel_Rarely|          0.0|               Sales|             1.0|\n",
            "|    Travel_Rarely|          0.0|Research & Develo...|             0.0|\n",
            "+-----------------+-------------+--------------------+----------------+\n",
            "only showing top 20 rows\n",
            "\n"
          ],
          "name": "stdout"
        }
      ]
    },
    {
      "cell_type": "code",
      "metadata": {
        "id": "PtIrlVkPp_MY"
      },
      "source": [
        "from pyspark.ml.feature import OneHotEncoder"
      ],
      "execution_count": 25,
      "outputs": []
    },
    {
      "cell_type": "code",
      "metadata": {
        "colab": {
          "base_uri": "https://localhost:8080/"
        },
        "id": "lF7SSuVbqlnf",
        "outputId": "4cad3513-b47a-4569-abe2-6baabd854a62"
      },
      "source": [
        "OHE = OneHotEncoder(inputCols=['BTravel_Index','Department_Index'],outputCols=['BTravel_OHE','Department_OHE'])\n",
        "# transform the data\n",
        "my_data = OHE.fit(my_data).transform(my_data)\n",
        "\n",
        "my_data.select('BusinessTravel','BTravel_Index','BTravel_OHE','Department','Department_Index','Department_OHE').show(20)"
      ],
      "execution_count": 43,
      "outputs": [
        {
          "output_type": "stream",
          "text": [
            "+-----------------+-------------+-------------+--------------------+----------------+--------------+\n",
            "|   BusinessTravel|BTravel_Index|  BTravel_OHE|          Department|Department_Index|Department_OHE|\n",
            "+-----------------+-------------+-------------+--------------------+----------------+--------------+\n",
            "|    Travel_Rarely|          0.0|(2,[0],[1.0])|               Sales|             1.0| (2,[1],[1.0])|\n",
            "|Travel_Frequently|          1.0|(2,[1],[1.0])|Research & Develo...|             0.0| (2,[0],[1.0])|\n",
            "|    Travel_Rarely|          0.0|(2,[0],[1.0])|Research & Develo...|             0.0| (2,[0],[1.0])|\n",
            "|Travel_Frequently|          1.0|(2,[1],[1.0])|Research & Develo...|             0.0| (2,[0],[1.0])|\n",
            "|    Travel_Rarely|          0.0|(2,[0],[1.0])|Research & Develo...|             0.0| (2,[0],[1.0])|\n",
            "|Travel_Frequently|          1.0|(2,[1],[1.0])|Research & Develo...|             0.0| (2,[0],[1.0])|\n",
            "|    Travel_Rarely|          0.0|(2,[0],[1.0])|Research & Develo...|             0.0| (2,[0],[1.0])|\n",
            "|    Travel_Rarely|          0.0|(2,[0],[1.0])|Research & Develo...|             0.0| (2,[0],[1.0])|\n",
            "|Travel_Frequently|          1.0|(2,[1],[1.0])|Research & Develo...|             0.0| (2,[0],[1.0])|\n",
            "|    Travel_Rarely|          0.0|(2,[0],[1.0])|Research & Develo...|             0.0| (2,[0],[1.0])|\n",
            "|    Travel_Rarely|          0.0|(2,[0],[1.0])|Research & Develo...|             0.0| (2,[0],[1.0])|\n",
            "|    Travel_Rarely|          0.0|(2,[0],[1.0])|Research & Develo...|             0.0| (2,[0],[1.0])|\n",
            "|    Travel_Rarely|          0.0|(2,[0],[1.0])|Research & Develo...|             0.0| (2,[0],[1.0])|\n",
            "|    Travel_Rarely|          0.0|(2,[0],[1.0])|Research & Develo...|             0.0| (2,[0],[1.0])|\n",
            "|    Travel_Rarely|          0.0|(2,[0],[1.0])|Research & Develo...|             0.0| (2,[0],[1.0])|\n",
            "|    Travel_Rarely|          0.0|(2,[0],[1.0])|Research & Develo...|             0.0| (2,[0],[1.0])|\n",
            "|    Travel_Rarely|          0.0|(2,[0],[1.0])|Research & Develo...|             0.0| (2,[0],[1.0])|\n",
            "|       Non-Travel|          2.0|    (2,[],[])|Research & Develo...|             0.0| (2,[0],[1.0])|\n",
            "|    Travel_Rarely|          0.0|(2,[0],[1.0])|               Sales|             1.0| (2,[1],[1.0])|\n",
            "|    Travel_Rarely|          0.0|(2,[0],[1.0])|Research & Develo...|             0.0| (2,[0],[1.0])|\n",
            "+-----------------+-------------+-------------+--------------------+----------------+--------------+\n",
            "only showing top 20 rows\n",
            "\n"
          ],
          "name": "stdout"
        }
      ]
    },
    {
      "cell_type": "code",
      "metadata": {
        "colab": {
          "base_uri": "https://localhost:8080/"
        },
        "id": "x3C8_Ug1RSKr",
        "outputId": "523c3b62-c5ef-442e-b38a-ff1db8542b15"
      },
      "source": [
        "my_data.columns"
      ],
      "execution_count": 44,
      "outputs": [
        {
          "output_type": "execute_result",
          "data": {
            "text/plain": [
              "['Age',\n",
              " 'Attrition',\n",
              " 'BusinessTravel',\n",
              " 'DailyRate',\n",
              " 'Department',\n",
              " 'DistanceFromHome',\n",
              " 'Education',\n",
              " 'EducationField',\n",
              " 'EmployeeCount',\n",
              " 'EmployeeNumber',\n",
              " 'EnvironmentSatisfaction',\n",
              " 'Gender',\n",
              " 'HourlyRate',\n",
              " 'JobInvolvement',\n",
              " 'JobLevel',\n",
              " 'JobRole',\n",
              " 'JobSatisfaction',\n",
              " 'MaritalStatus',\n",
              " 'MonthlyIncome',\n",
              " 'MonthlyRate',\n",
              " 'NumCompaniesWorked',\n",
              " 'Over18',\n",
              " 'OverTime',\n",
              " 'PercentSalaryHike',\n",
              " 'PerformanceRating',\n",
              " 'RelationshipSatisfaction',\n",
              " 'StandardHours',\n",
              " 'StockOptionLevel',\n",
              " 'TotalWorkingYears',\n",
              " 'TrainingTimesLastYear',\n",
              " 'WorkLifeBalance',\n",
              " 'YearsAtCompany',\n",
              " 'YearsInCurrentRole',\n",
              " 'YearsSinceLastPromotion',\n",
              " 'YearsWithCurrManager',\n",
              " 'BTravel_Index',\n",
              " 'Department_Index',\n",
              " 'BTravel_OHE',\n",
              " 'Department_OHE']"
            ]
          },
          "metadata": {
            "tags": []
          },
          "execution_count": 44
        }
      ]
    },
    {
      "cell_type": "markdown",
      "metadata": {
        "id": "68ZoSyP9rg0I"
      },
      "source": [
        "## vector assembler "
      ]
    },
    {
      "cell_type": "code",
      "metadata": {
        "id": "kLdii7ZySf2Y"
      },
      "source": [
        " # Change column type\n",
        "# df_new = my_data.withColumn(\"DailyRate\", my_data[\"DailyRate\"].cast(IntegerType()))\n",
        "# df_new.printSchema()"
      ],
      "execution_count": null,
      "outputs": []
    },
    {
      "cell_type": "code",
      "metadata": {
        "colab": {
          "base_uri": "https://localhost:8080/"
        },
        "id": "YAUkFkiTRC9U",
        "outputId": "b0c92329-0c75-45ae-cfc4-0e3851f925e0"
      },
      "source": [
        "from pyspark.ml.feature import VectorAssembler\n",
        "\n",
        "# specify the input and output columns of the vector assembler\n",
        "assembler = VectorAssembler(inputCols=['Department_Index',\n",
        "                                       #'DistanceFromHome',\n",
        "                                       #'Education',\n",
        "                                       #'EmployeeCount',\n",
        "                                       #'MonthlyIncome',\n",
        "                                       ],\n",
        "                           outputCol='vector')\n",
        "\n",
        "# fill the null values\n",
        "my_data = my_data.fillna(0)\n",
        "\n",
        "# transform the data\n",
        "final_data = assembler.transform(my_data)\n",
        "\n",
        "# view the transformed vector\n",
        "final_data.select('vector').show()"
      ],
      "execution_count": 49,
      "outputs": [
        {
          "output_type": "stream",
          "text": [
            "+------+\n",
            "|vector|\n",
            "+------+\n",
            "| [1.0]|\n",
            "| [0.0]|\n",
            "| [0.0]|\n",
            "| [0.0]|\n",
            "| [0.0]|\n",
            "| [0.0]|\n",
            "| [0.0]|\n",
            "| [0.0]|\n",
            "| [0.0]|\n",
            "| [0.0]|\n",
            "| [0.0]|\n",
            "| [0.0]|\n",
            "| [0.0]|\n",
            "| [0.0]|\n",
            "| [0.0]|\n",
            "| [0.0]|\n",
            "| [0.0]|\n",
            "| [0.0]|\n",
            "| [1.0]|\n",
            "| [0.0]|\n",
            "+------+\n",
            "only showing top 20 rows\n",
            "\n"
          ],
          "name": "stdout"
        }
      ]
    },
    {
      "cell_type": "code",
      "metadata": {
        "id": "BDtaa-ZmRdeu"
      },
      "source": [
        ""
      ],
      "execution_count": null,
      "outputs": []
    }
  ]
}